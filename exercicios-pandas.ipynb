{
 "cells": [
  {
   "cell_type": "markdown",
   "id": "eb29fb7a-5c3a-46df-a5f9-627148c66351",
   "metadata": {},
   "source": [
    "## Projeto preço da gasolina no Brasil"
   ]
  },
  {
   "cell_type": "markdown",
   "id": "ad2f7eba-5091-4fec-b113-487186883a09",
   "metadata": {},
   "source": [
    "Link para Dataset: https://www.kaggle.com/datasets/matheusfreitag/gas-prices-in-brazil"
   ]
  },
  {
   "cell_type": "code",
   "execution_count": 52,
   "id": "d0e9c6b9-3840-47a5-956f-9954b612c657",
   "metadata": {},
   "outputs": [],
   "source": [
    "import pandas as pd"
   ]
  },
  {
   "cell_type": "markdown",
   "id": "0878efe6",
   "metadata": {},
   "source": []
  },
  {
   "cell_type": "markdown",
   "id": "76366baf-6608-4ad2-b14b-ff048e5adb90",
   "metadata": {},
   "source": [
    "### Neste projeto, trabalharemos com dois arquivos csvs separados, contendo informações sobre o preço da gasolina no Brasil. \n",
    "\n",
    "##### 1. Carregando os conjuntos de dados \"gasolina_2000+.csv\" e \"gasolina_2010+.csv\" em dois DataFrames diferentes e combinando-os em um único DataFrame."
   ]
  },
  {
   "cell_type": "code",
   "execution_count": 4,
   "id": "c7decfae-2c39-48fb-8412-6dd2e789f28e",
   "metadata": {},
   "outputs": [
    {
     "name": "stderr",
     "output_type": "stream",
     "text": [
      "/var/folders/86/t0s56lw963l8hq8z4bszh1j40000gn/T/ipykernel_6136/3276778960.py:2: DtypeWarning: Columns (12,14,15,16,17,18) have mixed types. Specify dtype option on import or set low_memory=False.\n",
      "  df2 = pd.read_csv(\"/Users/pedrogab/Documents/ASIMOV ACADEMY/Analisando Dados com Pandas & SQL/Analisando Dados com Pandas & SQL/projetos/analise-precos-gasolina/gasolina_2010+.csv\", index_col=0)\n"
     ]
    }
   ],
   "source": [
    "df1 = pd.read_csv(\"/Users/pedrogab/Documents/ASIMOV ACADEMY/Analisando Dados com Pandas & SQL/Analisando Dados com Pandas & SQL/projetos/analise-precos-gasolina/gasolina_2000+.csv\", index_col=0)\n",
    "df2 = pd.read_csv(\"/Users/pedrogab/Documents/ASIMOV ACADEMY/Analisando Dados com Pandas & SQL/Analisando Dados com Pandas & SQL/projetos/analise-precos-gasolina/gasolina_2010+.csv\", index_col=0)\n",
    "\n",
    "df = pd.concat([df1, df2])"
   ]
  },
  {
   "cell_type": "markdown",
   "id": "6cd74f39-565b-47ea-9171-9679eb964b1c",
   "metadata": {},
   "source": [
    "##### 2. Utilizando head() e info() para analisar"
   ]
  },
  {
   "cell_type": "code",
   "execution_count": 31,
   "id": "254de007",
   "metadata": {},
   "outputs": [
    {
     "data": {
      "text/html": [
       "<div>\n",
       "<style scoped>\n",
       "    .dataframe tbody tr th:only-of-type {\n",
       "        vertical-align: middle;\n",
       "    }\n",
       "\n",
       "    .dataframe tbody tr th {\n",
       "        vertical-align: top;\n",
       "    }\n",
       "\n",
       "    .dataframe thead th {\n",
       "        text-align: right;\n",
       "    }\n",
       "</style>\n",
       "<table border=\"1\" class=\"dataframe\">\n",
       "  <thead>\n",
       "    <tr style=\"text-align: right;\">\n",
       "      <th></th>\n",
       "      <th>DATA INICIAL</th>\n",
       "      <th>DATA FINAL</th>\n",
       "      <th>REGIÃO</th>\n",
       "      <th>ESTADO</th>\n",
       "      <th>PRODUTO</th>\n",
       "      <th>NÚMERO DE POSTOS PESQUISADOS</th>\n",
       "      <th>UNIDADE DE MEDIDA</th>\n",
       "      <th>PREÇO MÉDIO REVENDA</th>\n",
       "      <th>DESVIO PADRÃO REVENDA</th>\n",
       "      <th>PREÇO MÍNIMO REVENDA</th>\n",
       "      <th>PREÇO MÁXIMO REVENDA</th>\n",
       "      <th>MARGEM MÉDIA REVENDA</th>\n",
       "      <th>COEF DE VARIAÇÃO REVENDA</th>\n",
       "      <th>PREÇO MÉDIO DISTRIBUIÇÃO</th>\n",
       "      <th>DESVIO PADRÃO DISTRIBUIÇÃO</th>\n",
       "      <th>PREÇO MÍNIMO DISTRIBUIÇÃO</th>\n",
       "      <th>PREÇO MÁXIMO DISTRIBUIÇÃO</th>\n",
       "      <th>COEF DE VARIAÇÃO DISTRIBUIÇÃO</th>\n",
       "      <th>ANOMES</th>\n",
       "    </tr>\n",
       "  </thead>\n",
       "  <tbody>\n",
       "    <tr>\n",
       "      <th>0</th>\n",
       "      <td>2004-05-09</td>\n",
       "      <td>2004-05-15</td>\n",
       "      <td>CENTRO OESTE</td>\n",
       "      <td>DISTRITO FEDERAL</td>\n",
       "      <td>ETANOL HIDRATADO</td>\n",
       "      <td>127</td>\n",
       "      <td>R$/l</td>\n",
       "      <td>1.288</td>\n",
       "      <td>0.016</td>\n",
       "      <td>1.19</td>\n",
       "      <td>1.350</td>\n",
       "      <td>0.463</td>\n",
       "      <td>0.012</td>\n",
       "      <td>0.825</td>\n",
       "      <td>0.11</td>\n",
       "      <td>0.4201</td>\n",
       "      <td>0.9666</td>\n",
       "      <td>0.133</td>\n",
       "      <td>2004-05</td>\n",
       "    </tr>\n",
       "    <tr>\n",
       "      <th>1</th>\n",
       "      <td>2004-05-09</td>\n",
       "      <td>2004-05-15</td>\n",
       "      <td>CENTRO OESTE</td>\n",
       "      <td>GOIAS</td>\n",
       "      <td>ETANOL HIDRATADO</td>\n",
       "      <td>387</td>\n",
       "      <td>R$/l</td>\n",
       "      <td>1.162</td>\n",
       "      <td>0.114</td>\n",
       "      <td>0.89</td>\n",
       "      <td>1.449</td>\n",
       "      <td>0.399</td>\n",
       "      <td>0.098</td>\n",
       "      <td>0.763</td>\n",
       "      <td>0.088</td>\n",
       "      <td>0.5013</td>\n",
       "      <td>1.05</td>\n",
       "      <td>0.115</td>\n",
       "      <td>2004-05</td>\n",
       "    </tr>\n",
       "    <tr>\n",
       "      <th>2</th>\n",
       "      <td>2004-05-09</td>\n",
       "      <td>2004-05-15</td>\n",
       "      <td>CENTRO OESTE</td>\n",
       "      <td>MATO GROSSO</td>\n",
       "      <td>ETANOL HIDRATADO</td>\n",
       "      <td>192</td>\n",
       "      <td>R$/l</td>\n",
       "      <td>1.389</td>\n",
       "      <td>0.097</td>\n",
       "      <td>1.18</td>\n",
       "      <td>1.760</td>\n",
       "      <td>0.419</td>\n",
       "      <td>0.070</td>\n",
       "      <td>0.97</td>\n",
       "      <td>0.095</td>\n",
       "      <td>0.5614</td>\n",
       "      <td>1.161</td>\n",
       "      <td>0.098</td>\n",
       "      <td>2004-05</td>\n",
       "    </tr>\n",
       "    <tr>\n",
       "      <th>3</th>\n",
       "      <td>2004-05-09</td>\n",
       "      <td>2004-05-15</td>\n",
       "      <td>CENTRO OESTE</td>\n",
       "      <td>MATO GROSSO DO SUL</td>\n",
       "      <td>ETANOL HIDRATADO</td>\n",
       "      <td>162</td>\n",
       "      <td>R$/l</td>\n",
       "      <td>1.262</td>\n",
       "      <td>0.070</td>\n",
       "      <td>1.09</td>\n",
       "      <td>1.509</td>\n",
       "      <td>0.432</td>\n",
       "      <td>0.055</td>\n",
       "      <td>0.83</td>\n",
       "      <td>0.119</td>\n",
       "      <td>0.5991</td>\n",
       "      <td>1.22242</td>\n",
       "      <td>0.143</td>\n",
       "      <td>2004-05</td>\n",
       "    </tr>\n",
       "    <tr>\n",
       "      <th>4</th>\n",
       "      <td>2004-05-09</td>\n",
       "      <td>2004-05-15</td>\n",
       "      <td>NORDESTE</td>\n",
       "      <td>ALAGOAS</td>\n",
       "      <td>ETANOL HIDRATADO</td>\n",
       "      <td>103</td>\n",
       "      <td>R$/l</td>\n",
       "      <td>1.181</td>\n",
       "      <td>0.078</td>\n",
       "      <td>1.05</td>\n",
       "      <td>1.400</td>\n",
       "      <td>0.24</td>\n",
       "      <td>0.066</td>\n",
       "      <td>0.941</td>\n",
       "      <td>0.077</td>\n",
       "      <td>0.7441</td>\n",
       "      <td>1.0317</td>\n",
       "      <td>0.082</td>\n",
       "      <td>2004-05</td>\n",
       "    </tr>\n",
       "  </tbody>\n",
       "</table>\n",
       "</div>"
      ],
      "text/plain": [
       "  DATA INICIAL DATA FINAL        REGIÃO              ESTADO           PRODUTO  \\\n",
       "0   2004-05-09 2004-05-15  CENTRO OESTE    DISTRITO FEDERAL  ETANOL HIDRATADO   \n",
       "1   2004-05-09 2004-05-15  CENTRO OESTE               GOIAS  ETANOL HIDRATADO   \n",
       "2   2004-05-09 2004-05-15  CENTRO OESTE         MATO GROSSO  ETANOL HIDRATADO   \n",
       "3   2004-05-09 2004-05-15  CENTRO OESTE  MATO GROSSO DO SUL  ETANOL HIDRATADO   \n",
       "4   2004-05-09 2004-05-15      NORDESTE             ALAGOAS  ETANOL HIDRATADO   \n",
       "\n",
       "   NÚMERO DE POSTOS PESQUISADOS UNIDADE DE MEDIDA  PREÇO MÉDIO REVENDA  \\\n",
       "0                           127              R$/l                1.288   \n",
       "1                           387              R$/l                1.162   \n",
       "2                           192              R$/l                1.389   \n",
       "3                           162              R$/l                1.262   \n",
       "4                           103              R$/l                1.181   \n",
       "\n",
       "   DESVIO PADRÃO REVENDA  PREÇO MÍNIMO REVENDA  PREÇO MÁXIMO REVENDA  \\\n",
       "0                  0.016                  1.19                 1.350   \n",
       "1                  0.114                  0.89                 1.449   \n",
       "2                  0.097                  1.18                 1.760   \n",
       "3                  0.070                  1.09                 1.509   \n",
       "4                  0.078                  1.05                 1.400   \n",
       "\n",
       "  MARGEM MÉDIA REVENDA  COEF DE VARIAÇÃO REVENDA PREÇO MÉDIO DISTRIBUIÇÃO  \\\n",
       "0                0.463                     0.012                    0.825   \n",
       "1                0.399                     0.098                    0.763   \n",
       "2                0.419                     0.070                     0.97   \n",
       "3                0.432                     0.055                     0.83   \n",
       "4                 0.24                     0.066                    0.941   \n",
       "\n",
       "  DESVIO PADRÃO DISTRIBUIÇÃO PREÇO MÍNIMO DISTRIBUIÇÃO  \\\n",
       "0                       0.11                    0.4201   \n",
       "1                      0.088                    0.5013   \n",
       "2                      0.095                    0.5614   \n",
       "3                      0.119                    0.5991   \n",
       "4                      0.077                    0.7441   \n",
       "\n",
       "  PREÇO MÁXIMO DISTRIBUIÇÃO COEF DE VARIAÇÃO DISTRIBUIÇÃO   ANOMES  \n",
       "0                    0.9666                         0.133  2004-05  \n",
       "1                      1.05                         0.115  2004-05  \n",
       "2                     1.161                         0.098  2004-05  \n",
       "3                   1.22242                         0.143  2004-05  \n",
       "4                    1.0317                         0.082  2004-05  "
      ]
     },
     "execution_count": 31,
     "metadata": {},
     "output_type": "execute_result"
    }
   ],
   "source": [
    "df.head(5)"
   ]
  },
  {
   "cell_type": "code",
   "execution_count": 32,
   "id": "670135c9",
   "metadata": {},
   "outputs": [
    {
     "name": "stdout",
     "output_type": "stream",
     "text": [
      "<class 'pandas.core.frame.DataFrame'>\n",
      "Index: 120823 entries, 0 to 120822\n",
      "Data columns (total 19 columns):\n",
      " #   Column                         Non-Null Count   Dtype         \n",
      "---  ------                         --------------   -----         \n",
      " 0   DATA INICIAL                   120823 non-null  object        \n",
      " 1   DATA FINAL                     120823 non-null  datetime64[ns]\n",
      " 2   REGIÃO                         120823 non-null  object        \n",
      " 3   ESTADO                         120823 non-null  object        \n",
      " 4   PRODUTO                        120823 non-null  object        \n",
      " 5   NÚMERO DE POSTOS PESQUISADOS   120823 non-null  int64         \n",
      " 6   UNIDADE DE MEDIDA              120823 non-null  object        \n",
      " 7   PREÇO MÉDIO REVENDA            120823 non-null  float64       \n",
      " 8   DESVIO PADRÃO REVENDA          120823 non-null  float64       \n",
      " 9   PREÇO MÍNIMO REVENDA           120823 non-null  float64       \n",
      " 10  PREÇO MÁXIMO REVENDA           120823 non-null  float64       \n",
      " 11  MARGEM MÉDIA REVENDA           120823 non-null  object        \n",
      " 12  COEF DE VARIAÇÃO REVENDA       120823 non-null  float64       \n",
      " 13  PREÇO MÉDIO DISTRIBUIÇÃO       120823 non-null  object        \n",
      " 14  DESVIO PADRÃO DISTRIBUIÇÃO     120823 non-null  object        \n",
      " 15  PREÇO MÍNIMO DISTRIBUIÇÃO      120823 non-null  object        \n",
      " 16  PREÇO MÁXIMO DISTRIBUIÇÃO      120823 non-null  object        \n",
      " 17  COEF DE VARIAÇÃO DISTRIBUIÇÃO  120823 non-null  object        \n",
      " 18  ANOMES                         120823 non-null  object        \n",
      "dtypes: datetime64[ns](1), float64(5), int64(1), object(12)\n",
      "memory usage: 22.5+ MB\n"
     ]
    }
   ],
   "source": [
    "df.info()"
   ]
  },
  {
   "cell_type": "markdown",
   "id": "2bcb2d2f-1c32-4583-8981-ca5b6ed0e048",
   "metadata": {},
   "source": [
    "##### 3. Selecionei a terceira entrada da coluna DATA INICIAL e verifique seu tipo."
   ]
  },
  {
   "cell_type": "code",
   "execution_count": 33,
   "id": "c4399a8c-0ad3-4b6e-bcd8-d701438892fe",
   "metadata": {},
   "outputs": [
    {
     "data": {
      "text/plain": [
       "str"
      ]
     },
     "execution_count": 33,
     "metadata": {},
     "output_type": "execute_result"
    }
   ],
   "source": [
    "type(df[\"DATA INICIAL\"].iloc[2])"
   ]
  },
  {
   "cell_type": "markdown",
   "id": "7eda8c87-eef7-4b66-97ee-46629b214fc7",
   "metadata": {},
   "source": [
    "##### 4. Utilizei o método pd.to_datetime(), converta ambas colunas (DATA INICIAL e DATA FINAL) para Timestamp / Datetime."
   ]
  },
  {
   "cell_type": "code",
   "execution_count": 34,
   "id": "d2e04916",
   "metadata": {},
   "outputs": [],
   "source": [
    "df[\"DATA INICIAL\"] = pd.to_datetime(df[\"DATA INICIAL\"])\n",
    "df[\"DATA FINAL\"] = pd.to_datetime(df[\"DATA FINAL\"])"
   ]
  },
  {
   "cell_type": "code",
   "execution_count": 35,
   "id": "1567c561",
   "metadata": {},
   "outputs": [
    {
     "data": {
      "text/plain": [
       "pandas._libs.tslibs.timestamps.Timestamp"
      ]
     },
     "execution_count": 35,
     "metadata": {},
     "output_type": "execute_result"
    }
   ],
   "source": [
    "type(df[\"DATA INICIAL\"].iloc[2])"
   ]
  },
  {
   "cell_type": "markdown",
   "id": "2f9aaafa-f9a4-4f07-9bc6-86e5911c863c",
   "metadata": {},
   "source": [
    "##### 5. Criei uma nova coluna para representar o ano e o mês(aaaa-mm), utilizando a coluna DATA FINAL como referência. "
   ]
  },
  {
   "cell_type": "code",
   "execution_count": 37,
   "id": "03f15a92-bae5-4256-add1-a7c97fe9f01d",
   "metadata": {},
   "outputs": [],
   "source": [
    "df[\"ANO-MES\"] = df[\"DATA FINAL\"].apply(lambda x: \"{}\".format(x.year)) + df[\"DATA FINAL\"].apply(lambda x: \"-{:02d}\".format(x.month))"
   ]
  },
  {
   "cell_type": "markdown",
   "id": "7d25e880-b153-4cce-8268-8388c3de52a3",
   "metadata": {},
   "source": [
    "##### 6. Utilizando o value_counts(), listei todos os tipos de produtos contidos na base de dados."
   ]
  },
  {
   "cell_type": "code",
   "execution_count": 38,
   "id": "f953fa16-59bd-40d9-90c0-af138acb4191",
   "metadata": {},
   "outputs": [
    {
     "data": {
      "text/plain": [
       "PRODUTO\n",
       "GASOLINA COMUM        23570\n",
       "GLP                   23561\n",
       "ETANOL HIDRATADO      23440\n",
       "ÓLEO DIESEL           21194\n",
       "GNV                   14469\n",
       "ÓLEO DIESEL S10        9113\n",
       "OLEO DIESEL S10        2376\n",
       "OLEO DIESEL            2351\n",
       "GASOLINA ADITIVADA      749\n",
       "Name: count, dtype: int64"
      ]
     },
     "execution_count": 38,
     "metadata": {},
     "output_type": "execute_result"
    }
   ],
   "source": [
    "df[\"PRODUTO\"].value_counts()"
   ]
  },
  {
   "cell_type": "markdown",
   "id": "fab0300f-7c49-48be-b95a-948601713229",
   "metadata": {},
   "source": [
    "##### 7. Filtre o DataFrame para obter apenas dados da 'GASOLINA COMUM'. "
   ]
  },
  {
   "cell_type": "code",
   "execution_count": 39,
   "id": "6f1a53ad-2f8e-48b3-b1f3-05698caec5a7",
   "metadata": {},
   "outputs": [],
   "source": [
    "df2 = df[df['PRODUTO'] == 'GASOLINA COMUM']"
   ]
  },
  {
   "cell_type": "code",
   "execution_count": 40,
   "id": "81aa09a4",
   "metadata": {},
   "outputs": [
    {
     "data": {
      "text/html": [
       "<div>\n",
       "<style scoped>\n",
       "    .dataframe tbody tr th:only-of-type {\n",
       "        vertical-align: middle;\n",
       "    }\n",
       "\n",
       "    .dataframe tbody tr th {\n",
       "        vertical-align: top;\n",
       "    }\n",
       "\n",
       "    .dataframe thead th {\n",
       "        text-align: right;\n",
       "    }\n",
       "</style>\n",
       "<table border=\"1\" class=\"dataframe\">\n",
       "  <thead>\n",
       "    <tr style=\"text-align: right;\">\n",
       "      <th></th>\n",
       "      <th>DATA INICIAL</th>\n",
       "      <th>DATA FINAL</th>\n",
       "      <th>REGIÃO</th>\n",
       "      <th>ESTADO</th>\n",
       "      <th>PRODUTO</th>\n",
       "      <th>NÚMERO DE POSTOS PESQUISADOS</th>\n",
       "      <th>UNIDADE DE MEDIDA</th>\n",
       "      <th>PREÇO MÉDIO REVENDA</th>\n",
       "      <th>DESVIO PADRÃO REVENDA</th>\n",
       "      <th>PREÇO MÍNIMO REVENDA</th>\n",
       "      <th>PREÇO MÁXIMO REVENDA</th>\n",
       "      <th>MARGEM MÉDIA REVENDA</th>\n",
       "      <th>COEF DE VARIAÇÃO REVENDA</th>\n",
       "      <th>PREÇO MÉDIO DISTRIBUIÇÃO</th>\n",
       "      <th>DESVIO PADRÃO DISTRIBUIÇÃO</th>\n",
       "      <th>PREÇO MÍNIMO DISTRIBUIÇÃO</th>\n",
       "      <th>PREÇO MÁXIMO DISTRIBUIÇÃO</th>\n",
       "      <th>COEF DE VARIAÇÃO DISTRIBUIÇÃO</th>\n",
       "      <th>ANOMES</th>\n",
       "      <th>ANO-MES</th>\n",
       "    </tr>\n",
       "  </thead>\n",
       "  <tbody>\n",
       "    <tr>\n",
       "      <th>12064</th>\n",
       "      <td>2004-05-09</td>\n",
       "      <td>2004-05-15</td>\n",
       "      <td>CENTRO OESTE</td>\n",
       "      <td>DISTRITO FEDERAL</td>\n",
       "      <td>GASOLINA COMUM</td>\n",
       "      <td>128</td>\n",
       "      <td>R$/l</td>\n",
       "      <td>2.029</td>\n",
       "      <td>0.007</td>\n",
       "      <td>1.99</td>\n",
       "      <td>2.070</td>\n",
       "      <td>0.318</td>\n",
       "      <td>0.003</td>\n",
       "      <td>1.711</td>\n",
       "      <td>0.02</td>\n",
       "      <td>1.651</td>\n",
       "      <td>1.7427</td>\n",
       "      <td>0.012</td>\n",
       "      <td>2004-05</td>\n",
       "      <td>2004-05</td>\n",
       "    </tr>\n",
       "    <tr>\n",
       "      <th>12065</th>\n",
       "      <td>2004-05-09</td>\n",
       "      <td>2004-05-15</td>\n",
       "      <td>CENTRO OESTE</td>\n",
       "      <td>GOIAS</td>\n",
       "      <td>GASOLINA COMUM</td>\n",
       "      <td>395</td>\n",
       "      <td>R$/l</td>\n",
       "      <td>2.025</td>\n",
       "      <td>0.062</td>\n",
       "      <td>1.85</td>\n",
       "      <td>2.220</td>\n",
       "      <td>0.296</td>\n",
       "      <td>0.031</td>\n",
       "      <td>1.729</td>\n",
       "      <td>0.036</td>\n",
       "      <td>1.6643</td>\n",
       "      <td>1.915</td>\n",
       "      <td>0.021</td>\n",
       "      <td>2004-05</td>\n",
       "      <td>2004-05</td>\n",
       "    </tr>\n",
       "    <tr>\n",
       "      <th>12066</th>\n",
       "      <td>2004-05-09</td>\n",
       "      <td>2004-05-15</td>\n",
       "      <td>CENTRO OESTE</td>\n",
       "      <td>MATO GROSSO</td>\n",
       "      <td>GASOLINA COMUM</td>\n",
       "      <td>194</td>\n",
       "      <td>R$/l</td>\n",
       "      <td>2.358</td>\n",
       "      <td>0.066</td>\n",
       "      <td>2.00</td>\n",
       "      <td>2.540</td>\n",
       "      <td>0.472</td>\n",
       "      <td>0.028</td>\n",
       "      <td>1.886</td>\n",
       "      <td>0.068</td>\n",
       "      <td>1.75</td>\n",
       "      <td>2.0713</td>\n",
       "      <td>0.036</td>\n",
       "      <td>2004-05</td>\n",
       "      <td>2004-05</td>\n",
       "    </tr>\n",
       "    <tr>\n",
       "      <th>12067</th>\n",
       "      <td>2004-05-09</td>\n",
       "      <td>2004-05-15</td>\n",
       "      <td>CENTRO OESTE</td>\n",
       "      <td>MATO GROSSO DO SUL</td>\n",
       "      <td>GASOLINA COMUM</td>\n",
       "      <td>166</td>\n",
       "      <td>R$/l</td>\n",
       "      <td>2.120</td>\n",
       "      <td>0.075</td>\n",
       "      <td>1.97</td>\n",
       "      <td>2.440</td>\n",
       "      <td>0.325</td>\n",
       "      <td>0.035</td>\n",
       "      <td>1.795</td>\n",
       "      <td>0.033</td>\n",
       "      <td>1.70701</td>\n",
       "      <td>1.9703</td>\n",
       "      <td>0.018</td>\n",
       "      <td>2004-05</td>\n",
       "      <td>2004-05</td>\n",
       "    </tr>\n",
       "    <tr>\n",
       "      <th>12068</th>\n",
       "      <td>2004-05-09</td>\n",
       "      <td>2004-05-15</td>\n",
       "      <td>NORDESTE</td>\n",
       "      <td>ALAGOAS</td>\n",
       "      <td>GASOLINA COMUM</td>\n",
       "      <td>106</td>\n",
       "      <td>R$/l</td>\n",
       "      <td>2.090</td>\n",
       "      <td>0.034</td>\n",
       "      <td>2.00</td>\n",
       "      <td>2.159</td>\n",
       "      <td>0.35</td>\n",
       "      <td>0.016</td>\n",
       "      <td>1.74</td>\n",
       "      <td>0.042</td>\n",
       "      <td>1.6789</td>\n",
       "      <td>1.918</td>\n",
       "      <td>0.024</td>\n",
       "      <td>2004-05</td>\n",
       "      <td>2004-05</td>\n",
       "    </tr>\n",
       "  </tbody>\n",
       "</table>\n",
       "</div>"
      ],
      "text/plain": [
       "      DATA INICIAL DATA FINAL        REGIÃO              ESTADO  \\\n",
       "12064   2004-05-09 2004-05-15  CENTRO OESTE    DISTRITO FEDERAL   \n",
       "12065   2004-05-09 2004-05-15  CENTRO OESTE               GOIAS   \n",
       "12066   2004-05-09 2004-05-15  CENTRO OESTE         MATO GROSSO   \n",
       "12067   2004-05-09 2004-05-15  CENTRO OESTE  MATO GROSSO DO SUL   \n",
       "12068   2004-05-09 2004-05-15      NORDESTE             ALAGOAS   \n",
       "\n",
       "              PRODUTO  NÚMERO DE POSTOS PESQUISADOS UNIDADE DE MEDIDA  \\\n",
       "12064  GASOLINA COMUM                           128              R$/l   \n",
       "12065  GASOLINA COMUM                           395              R$/l   \n",
       "12066  GASOLINA COMUM                           194              R$/l   \n",
       "12067  GASOLINA COMUM                           166              R$/l   \n",
       "12068  GASOLINA COMUM                           106              R$/l   \n",
       "\n",
       "       PREÇO MÉDIO REVENDA  DESVIO PADRÃO REVENDA  PREÇO MÍNIMO REVENDA  \\\n",
       "12064                2.029                  0.007                  1.99   \n",
       "12065                2.025                  0.062                  1.85   \n",
       "12066                2.358                  0.066                  2.00   \n",
       "12067                2.120                  0.075                  1.97   \n",
       "12068                2.090                  0.034                  2.00   \n",
       "\n",
       "       PREÇO MÁXIMO REVENDA MARGEM MÉDIA REVENDA  COEF DE VARIAÇÃO REVENDA  \\\n",
       "12064                 2.070                0.318                     0.003   \n",
       "12065                 2.220                0.296                     0.031   \n",
       "12066                 2.540                0.472                     0.028   \n",
       "12067                 2.440                0.325                     0.035   \n",
       "12068                 2.159                 0.35                     0.016   \n",
       "\n",
       "      PREÇO MÉDIO DISTRIBUIÇÃO DESVIO PADRÃO DISTRIBUIÇÃO  \\\n",
       "12064                    1.711                       0.02   \n",
       "12065                    1.729                      0.036   \n",
       "12066                    1.886                      0.068   \n",
       "12067                    1.795                      0.033   \n",
       "12068                     1.74                      0.042   \n",
       "\n",
       "      PREÇO MÍNIMO DISTRIBUIÇÃO PREÇO MÁXIMO DISTRIBUIÇÃO  \\\n",
       "12064                     1.651                    1.7427   \n",
       "12065                    1.6643                     1.915   \n",
       "12066                      1.75                    2.0713   \n",
       "12067                   1.70701                    1.9703   \n",
       "12068                    1.6789                     1.918   \n",
       "\n",
       "      COEF DE VARIAÇÃO DISTRIBUIÇÃO   ANOMES  ANO-MES  \n",
       "12064                         0.012  2004-05  2004-05  \n",
       "12065                         0.021  2004-05  2004-05  \n",
       "12066                         0.036  2004-05  2004-05  \n",
       "12067                         0.018  2004-05  2004-05  \n",
       "12068                         0.024  2004-05  2004-05  "
      ]
     },
     "execution_count": 40,
     "metadata": {},
     "output_type": "execute_result"
    }
   ],
   "source": [
    "df2.head(5)"
   ]
  },
  {
   "cell_type": "markdown",
   "id": "fb031b0b-51e7-43d7-b2cb-10da05019a73",
   "metadata": {},
   "source": [
    "##### 8. Qual o preço médio de revenda da gasolina em agosto de 2008?"
   ]
  },
  {
   "cell_type": "code",
   "execution_count": 41,
   "id": "b1aa8f0b",
   "metadata": {},
   "outputs": [
    {
     "data": {
      "text/plain": [
       "2.6012444444444442"
      ]
     },
     "execution_count": 41,
     "metadata": {},
     "output_type": "execute_result"
    }
   ],
   "source": [
    "df2[df2[\"ANO-MES\"] == '2008-08'][\"PREÇO MÉDIO REVENDA\"].mean()"
   ]
  },
  {
   "cell_type": "markdown",
   "id": "a57428cc-e9e6-48f8-a7f7-27fb9c87bcde",
   "metadata": {},
   "source": [
    "##### 9. Qual o preço médio de revenda da gasolina em maio de 2014 em São Paulo?"
   ]
  },
  {
   "cell_type": "code",
   "execution_count": null,
   "id": "ea75d06f",
   "metadata": {},
   "outputs": [],
   "source": []
  },
  {
   "cell_type": "code",
   "execution_count": 43,
   "id": "e981678b-85db-499a-8466-e24c455ea20c",
   "metadata": {},
   "outputs": [
    {
     "data": {
      "text/plain": [
       "2.4046"
      ]
     },
     "execution_count": 43,
     "metadata": {},
     "output_type": "execute_result"
    }
   ],
   "source": [
    "df2[(df2[\"ANO-MES\"] == '2008-08') & (df2[\"ESTADO\"] == 'SAO PAULO')][\"PREÇO MÉDIO REVENDA\"].mean()"
   ]
  },
  {
   "cell_type": "markdown",
   "id": "6ab2edd0-8bf7-49d7-b3e8-5535ec4a58cf",
   "metadata": {},
   "source": [
    "##### 10. Descobrindo em qual(quais) estado(s) a gasolina ultrapassou a barreira dos R$ 5,00? E quando isso ocorreu"
   ]
  },
  {
   "cell_type": "code",
   "execution_count": 51,
   "id": "32a9045a-899c-4775-8b66-c0490f3e62a7",
   "metadata": {},
   "outputs": [
    {
     "data": {
      "text/html": [
       "<div>\n",
       "<style scoped>\n",
       "    .dataframe tbody tr th:only-of-type {\n",
       "        vertical-align: middle;\n",
       "    }\n",
       "\n",
       "    .dataframe tbody tr th {\n",
       "        vertical-align: top;\n",
       "    }\n",
       "\n",
       "    .dataframe thead th {\n",
       "        text-align: right;\n",
       "    }\n",
       "</style>\n",
       "<table border=\"1\" class=\"dataframe\">\n",
       "  <thead>\n",
       "    <tr style=\"text-align: right;\">\n",
       "      <th></th>\n",
       "      <th>ESTADO</th>\n",
       "      <th>ANO-MES</th>\n",
       "      <th>PREÇO MÉDIO REVENDA</th>\n",
       "    </tr>\n",
       "  </thead>\n",
       "  <tbody>\n",
       "    <tr>\n",
       "      <th>98201</th>\n",
       "      <td>ACRE</td>\n",
       "      <td>2018-05</td>\n",
       "      <td>5.053</td>\n",
       "    </tr>\n",
       "    <tr>\n",
       "      <th>98347</th>\n",
       "      <td>ACRE</td>\n",
       "      <td>2018-06</td>\n",
       "      <td>5.035</td>\n",
       "    </tr>\n",
       "    <tr>\n",
       "      <th>98493</th>\n",
       "      <td>ACRE</td>\n",
       "      <td>2018-06</td>\n",
       "      <td>5.038</td>\n",
       "    </tr>\n",
       "    <tr>\n",
       "      <th>98511</th>\n",
       "      <td>RIO DE JANEIRO</td>\n",
       "      <td>2018-06</td>\n",
       "      <td>5.016</td>\n",
       "    </tr>\n",
       "    <tr>\n",
       "      <th>98646</th>\n",
       "      <td>ACRE</td>\n",
       "      <td>2018-06</td>\n",
       "      <td>5.031</td>\n",
       "    </tr>\n",
       "  </tbody>\n",
       "</table>\n",
       "</div>"
      ],
      "text/plain": [
       "               ESTADO  ANO-MES  PREÇO MÉDIO REVENDA\n",
       "98201            ACRE  2018-05                5.053\n",
       "98347            ACRE  2018-06                5.035\n",
       "98493            ACRE  2018-06                5.038\n",
       "98511  RIO DE JANEIRO  2018-06                5.016\n",
       "98646            ACRE  2018-06                5.031"
      ]
     },
     "execution_count": 51,
     "metadata": {},
     "output_type": "execute_result"
    }
   ],
   "source": [
    "df2[df2[\"PREÇO MÉDIO REVENDA\"] > 5][[\"ESTADO\", \"ANO-MES\", \"PREÇO MÉDIO REVENDA\"]].head(5)"
   ]
  },
  {
   "cell_type": "markdown",
   "id": "80f4c3a6-ba0e-43b0-a328-91c0aa04348c",
   "metadata": {},
   "source": [
    "##### 11. Média de preço dos estados da região sul em 2012"
   ]
  },
  {
   "cell_type": "code",
   "execution_count": 49,
   "id": "e6bbbe89-3dc9-4264-ba31-2ce5aa76054b",
   "metadata": {},
   "outputs": [
    {
     "data": {
      "text/plain": [
       "2.7214423076923073"
      ]
     },
     "execution_count": 49,
     "metadata": {},
     "output_type": "execute_result"
    }
   ],
   "source": [
    "df_aux = df2[(df2[\"DATA FINAL\"].apply(lambda x: x.year) == 2012)]\n",
    "df_aux[df_aux[\"REGIÃO\"] == \"SUL\"][\"PREÇO MÉDIO REVENDA\"].mean()"
   ]
  },
  {
   "cell_type": "markdown",
   "id": "28781cbf-0dba-4512-83df-87537e548c63",
   "metadata": {},
   "source": [
    "##### 12. Obtendo uma tabela contendo a variação percentual ano a ano para o estado do Rio de Janeiro"
   ]
  },
  {
   "cell_type": "code",
   "execution_count": 50,
   "id": "09d2d505-127b-47ff-8fe5-0c6170da3900",
   "metadata": {},
   "outputs": [
    {
     "name": "stderr",
     "output_type": "stream",
     "text": [
      "/var/folders/86/t0s56lw963l8hq8z4bszh1j40000gn/T/ipykernel_6136/2866652320.py:1: SettingWithCopyWarning: \n",
      "A value is trying to be set on a copy of a slice from a DataFrame.\n",
      "Try using .loc[row_indexer,col_indexer] = value instead\n",
      "\n",
      "See the caveats in the documentation: https://pandas.pydata.org/pandas-docs/stable/user_guide/indexing.html#returning-a-view-versus-a-copy\n",
      "  df2[\"MES\"] = df2[\"DATA FINAL\"].apply(lambda x: x.month)\n"
     ]
    }
   ],
   "source": [
    "df2[\"MES\"] = df2[\"DATA FINAL\"].apply(lambda x: x.month)\n",
    "df_rio = df2[df2[\"ESTADO\"] == \"RIO DE JANEIRO\"]"
   ]
  }
 ],
 "metadata": {
  "kernelspec": {
   "display_name": "Python 3",
   "language": "python",
   "name": "python3"
  },
  "language_info": {
   "codemirror_mode": {
    "name": "ipython",
    "version": 3
   },
   "file_extension": ".py",
   "mimetype": "text/x-python",
   "name": "python",
   "nbconvert_exporter": "python",
   "pygments_lexer": "ipython3",
   "version": "3.11.7"
  }
 },
 "nbformat": 4,
 "nbformat_minor": 5
}
